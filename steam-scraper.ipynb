{
 "cells": [
  {
   "cell_type": "code",
   "execution_count": 1,
   "metadata": {},
   "outputs": [],
   "source": [
    "# imports\n",
    "from bs4 import BeautifulSoup\n",
    "import requests, csv"
   ]
  },
  {
   "cell_type": "code",
   "execution_count": 2,
   "metadata": {},
   "outputs": [],
   "source": [
    "# url, request and response\n",
    "url = 'https://store.steampowered.com/hwsurvey/videocard/'\n",
    "response = requests.get(url)"
   ]
  },
  {
   "cell_type": "code",
   "execution_count": 3,
   "metadata": {},
   "outputs": [],
   "source": [
    "soup = BeautifulSoup(response.content)\n"
   ]
  },
  {
   "cell_type": "code",
   "execution_count": 4,
   "metadata": {},
   "outputs": [],
   "source": [
    "data = soup.findAll('div', id='sub_stats')[0]"
   ]
  },
  {
   "cell_type": "code",
   "execution_count": 5,
   "metadata": {},
   "outputs": [],
   "source": [
    "#print(data)"
   ]
  },
  {
   "cell_type": "code",
   "execution_count": 6,
   "metadata": {},
   "outputs": [],
   "source": [
    "# extracting recent 5 months\n",
    "data1 = data.findAll('div', class_='col_header')[1:6]\n",
    "months = []\n",
    "for month in range(len(data1)):\n",
    "    months.append(data1[month].text)"
   ]
  },
  {
   "cell_type": "code",
   "execution_count": 7,
   "metadata": {},
   "outputs": [],
   "source": [
    "# data extraction line for gpus\n",
    "data2 = data.findAll('div', class_='substats_col_left')[8:109]"
   ]
  },
  {
   "cell_type": "code",
   "execution_count": 8,
   "metadata": {},
   "outputs": [],
   "source": [
    "# data extraction lines for Recent month column %\n",
    "data3 = data.findAll('div', class_='substats_col_month_last_pct')[8:109]"
   ]
  },
  {
   "cell_type": "code",
   "execution_count": 9,
   "metadata": {},
   "outputs": [],
   "source": [
    "# data extraction for other months\n",
    "data4 = data.findAll('div', class_='substats_col_month')[32:]"
   ]
  },
  {
   "cell_type": "code",
   "execution_count": 10,
   "metadata": {},
   "outputs": [],
   "source": [
    "# creating months-percent dict\n",
    "numerate = 0\n",
    "months_percent = {\n",
    "    months[0] : [], \n",
    "    months[1] : [],\n",
    "    months[2] : [],\n",
    "    months[3] : [],\n",
    "    months[4] : []\n",
    "}\n",
    "for percent in data4:\n",
    "\n",
    "    if ('JUN' in percent.text):\n",
    "        break\n",
    "    months_percent[months[numerate]].append(percent.text[:-1])\n",
    "    numerate += 1\n",
    "    if (numerate == 4):\n",
    "        numerate = 0\n",
    "\n",
    "for percent in data3:\n",
    "    months_percent[months[4]].append(percent.text[:-1])"
   ]
  },
  {
   "cell_type": "code",
   "execution_count": 11,
   "metadata": {},
   "outputs": [],
   "source": [
    "# Getting list of gpus\n",
    "gpu_percent_dict = {}\n",
    "num = 0\n",
    "for entry in data2:\n",
    "    temp = [\n",
    "        months_percent[months[0]][num],\n",
    "        months_percent[months[1]][num],\n",
    "        months_percent[months[2]][num],\n",
    "        months_percent[months[3]][num],\n",
    "        months_percent[months[4]][num]\n",
    "    ]\n",
    "    if ( ('NVIDIA' in entry.text) or ('AMD' in entry.text) or ('Intel' in entry.text) ):\n",
    "        gpu_percent_dict[entry.text.strip()] = temp\n",
    "    if ( ('Other' in entry.text)):\n",
    "        gpu_percent_dict['Other'] = temp\n",
    "\n",
    "    num += 1"
   ]
  },
  {
   "cell_type": "code",
   "execution_count": 12,
   "metadata": {},
   "outputs": [
    {
     "name": "stdout",
     "output_type": "stream",
     "text": [
      "{'NVIDIA GeForce GTX 1060': ['9.88', '9.17', '10.46', '8.64', '8.08'], 'NVIDIA GeForce GTX 1050 Ti': ['6.46', '6.41', '6.14', '6.16', '5.94'], 'NVIDIA GeForce GTX 1650': ['5.61', '5.62', '5.36', '5.99', '5.94'], 'NVIDIA GeForce RTX 2060': ['5.99', '5.52', '6.87', '5.57', '5.16'], 'NVIDIA GeForce GTX 1050': ['3.73', '3.74', '3.35', '3.43', '3.39'], 'NVIDIA GeForce GTX 1660 Ti': ['3.06', '2.99', '2.82', '3.01', '2.95'], 'NVIDIA GeForce GTX 1660 SUPER': ['2.50', '2.55', '2.77', '2.53', '2.82'], 'NVIDIA GeForce GTX 1070': ['2.84', '2.79', '2.54', '2.63', '2.64'], 'NVIDIA GeForce GTX 1660': ['2.10', '2.13', '2.69', '2.13', '2.48'], 'NVIDIA GeForce RTX 2070 SUPER': ['2.34', '2.17', '2.16', '2.11', '2.07'], 'NVIDIA GeForce RTX 3070': ['1.52', '1.58', '1.59', '1.69', '1.70'], 'AMD Radeon RX 580': ['1.75', '1.73', '1.53', '1.65', '1.66'], 'NVIDIA GeForce GTX 1080': ['1.82', '1.67', '1.63', '1.59', '1.56'], 'NVIDIA GeForce RTX 2070': ['1.95', '1.74', '2.14', '1.64', '1.56'], 'NVIDIA GeForce GTX 1650 Ti': ['1.32', '1.31', '1.31', '1.49', '1.44'], 'NVIDIA GeForce RTX 3060 Laptop GPU': ['0.53', '0.68', '0.97', '1.34', '1.41'], 'AMD Radeon RX 570': ['1.35', '1.36', '1.21', '1.27', '1.30'], 'NVIDIA GeForce RTX 2060 SUPER': ['1.43', '1.36', '1.41', '1.33', '1.28'], 'NVIDIA GeForce GTX 970': ['1.31', '1.28', '1.13', '1.20', '1.20'], 'AMD Radeon Vega 8 Graphics': ['1.11', '1.16', '1.07', '1.14', '1.18'], 'NVIDIA GeForce GTX 960': ['1.27', '1.28', '1.34', '1.21', '1.14'], 'NVIDIA GeForce RTX 3060': ['0.54', '0.67', '1.09', '1.07', '1.13'], 'AMD Radeon Graphics': ['', '', '', '1.01', '1.11'], 'Intel(R) UHD Graphics': ['0.76', '0.87', '0.81', '0.96', '1.07'], 'NVIDIA GeForce RTX 3080': ['0.84', '0.88', '0.84', '0.99', '1.04'], 'NVIDIA GeForce GTX 1650 SUPER': ['0.98', '1.02', '0.92', '1.02', '1.03'], 'NVIDIA GeForce GTX 750 Ti': ['1.07', '1.14', '1.07', '1.06', '1.03'], 'NVIDIA GeForce GTX 1080 Ti': ['1.05', '1.01', '0.89', '1.00', '0.98'], 'Intel UHD Graphics 620': ['0.87', '0.89', '0.78', '0.83', '0.83'], 'NVIDIA GeForce GT 1030': ['0.73', '0.76', '0.73', '0.78', '0.83'], 'NVIDIA GeForce RTX 3060 Ti': ['0.37', '0.42', '0.55', '0.69', '0.81'], 'NVIDIA GeForce RTX 2080 SUPER': ['0.91', '0.85', '0.92', '0.82', '0.79'], 'AMD Radeon RX 5700 XT': ['0.79', '0.80', '0.69', '0.77', '0.77'], 'NVIDIA GeForce GTX 1070 Ti': ['0.87', '0.82', '0.83', '0.78', '0.76'], 'NVIDIA GeForce RTX 2080': ['0.89', '0.75', '0.79', '0.72', '0.69'], 'NVIDIA GeForce RTX 2080 Ti': ['0.67', '0.65', '0.57', '0.62', '0.64'], 'Intel(R) Iris(R) Xe Graphics': ['0.22', '0.28', '0.33', '0.46', '0.56'], 'NVIDIA GeForce GT 730': ['0.50', '0.56', '0.50', '0.54', '0.54'], 'Intel HD Graphics 620': ['0.57', '0.61', '0.51', '0.54', '0.53'], 'NVIDIA GeForce GTX 960M': ['0.61', '0.58', '0.51', '0.54', '0.51'], 'AMD Radeon RX 550': ['0.49', '0.49', '0.45', '0.48', '0.49'], 'NVIDIA GeForce 940M': ['0.57', '0.57', '0.48', '0.49', '0.48'], 'Intel HD Graphics 4000': ['0.48', '0.53', '0.46', '0.46', '0.48'], 'AMD Radeon Vega 3 Graphics': ['0.39', '0.40', '0.37', '0.46', '0.47'], 'AMD Radeon RX Vega 11 Graphics': ['0.44', '0.46', '0.41', '0.45', '0.45'], 'NVIDIA GeForce RTX 3090': ['0.35', '0.38', '0.37', '0.42', '0.44'], 'NVIDIA GeForce GT 710': ['0.40', '0.43', '0.39', '0.42', '0.43'], 'Intel HD Graphics 520': ['0.44', '0.47', '0.40', '0.42', '0.42'], 'Intel Haswell': ['0.44', '0.48', '0.43', '0.42', '0.42'], 'NVIDIA GeForce MX150': ['0.45', '0.45', '0.40', '0.41', '0.40'], 'NVIDIA GeForce RTX 3070 Laptop GPU': ['0.20', '0.24', '0.28', '0.36', '0.39'], 'NVIDIA GeForce MX250': ['0.45', '0.43', '0.40', '0.42', '0.38'], 'Intel UHD Graphics 630': ['0.39', '0.40', '0.36', '0.38', '0.38'], 'Intel HD Graphics 4600': ['0.36', '0.39', '0.34', '0.36', '0.36'], 'NVIDIA GeForce GTX 950': ['0.41', '0.41', '0.42', '0.39', '0.36'], 'Intel Ivy Bridge': ['0.34', '0.38', '0.33', '0.34', '0.35'], 'AMD Radeon RX 560': ['0.34', '0.34', '0.31', '0.33', '0.35'], 'NVIDIA GeForce GTX 950M': ['0.39', '0.37', '0.33', '0.34', '0.32'], 'AMD Radeon RX 5500 XT': ['0.32', '0.31', '0.28', '0.30', '0.31'], 'NVIDIA GeForce RTX 3080 Ti': ['', '', '0.16', '0.26', '0.31'], 'NVIDIA GeForce RTX 3050 Laptop GPU': ['', '', '0.16', '0.28', '0.31'], 'NVIDIA GeForce RTX 3070 Ti': ['', '', '0.23', '0.28', '0.31'], 'Intel HD Graphics 3000': ['0.31', '0.34', '0.30', '0.31', '0.31'], 'NVIDIA GeForce GTX 750': ['0.30', '0.33', '0.31', '0.31', '0.30'], 'NVIDIA GeForce RTX 3050': ['', '', '', '0.20', '0.29'], 'AMD Radeon RX 480': ['0.31', '0.31', '0.28', '0.29', '0.29'], 'AMD Radeon RX 5600 XT': ['0.30', '0.30', '0.26', '0.28', '0.29'], 'Intel HD Graphics 5500': ['0.31', '0.34', '0.29', '0.29', '0.29'], 'AMD Radeon R7 Graphics': ['0.29', '0.31', '0.27', '0.28', '0.28'], 'NVIDIA GeForce RTX 2070 with Max-Q Design': ['0.30', '0.28', '0.26', '0.29', '0.28'], 'NVIDIA GeForce GT 720M': ['0.31', '0.33', '0.28', '0.28', '0.28'], 'AMD Radeon R5 Graphics': ['0.28', '0.32', '0.26', '0.26', '0.26'], 'NVIDIA GeForce GTX 650': ['0.27', '0.28', '0.26', '0.26', '0.26'], 'AMD Radeon RX 590 Series': ['0.28', '0.27', '0.26', '0.27', '0.26'], 'NVIDIA GeForce RTX 3050 Ti Laptop GPU': ['', '', '', '0.20', '0.26'], 'NVIDIA GeForce GTX 760': ['0.27', '0.26', '0.24', '0.25', '0.25'], 'NVIDIA GeForce MX110': ['0.28', '0.28', '0.25', '0.25', '0.25'], 'NVIDIA GeForce GTX 980': ['0.27', '0.26', '0.22', '0.24', '0.25'], 'NVIDIA GeForce MX130': ['0.25', '0.25', '0.22', '0.23', '0.24'], 'NVIDIA GeForce GTX 660': ['0.25', '0.25', '0.24', '0.25', '0.23'], 'NVIDIA GeForce MX350': ['0.21', '0.22', '0.22', '0.25', '0.23'], 'AMD Radeon RX 470': ['0.24', '0.23', '0.21', '0.23', '0.23'], 'NVIDIA GeForce GTX 980 Ti': ['0.24', '0.23', '0.20', '0.22', '0.22'], 'Intel(R) UHD Graphics 630': ['0.16', '0.19', '0.18', '0.21', '0.21'], 'Intel HD Graphics 630': ['0.21', '0.23', '0.20', '0.22', '0.21'], 'AMD Radeon RX 460': ['0.21', '0.22', '0.20', '0.20', '0.21'], 'Intel Sandy Bridge': ['0.19', '0.21', '0.19', '0.19', '0.20'], 'NVIDIA GeForce 920M': ['0.20', '0.21', '0.18', '0.18', '0.18'], 'AMD Radeon RX 6700 XT': ['', '', '', '0.16', '0.18'], 'AMD Radeon RX 5700': ['0.18', '0.18', '0.16', '0.17', '0.18'], 'NVIDIA GeForce MX450': ['', '', '', '0.18', '0.18'], 'Intel HD Graphics 530': ['0.17', '0.19', '0.17', '0.18', '0.17'], 'NVIDIA GeForce MX330': ['', '', '', '0.16', '0.17'], 'NVIDIA GeForce GT 630': ['0.17', '0.18', '0.16', '0.17', '0.17'], 'AMD Radeon RX Vega': ['0.19', '0.19', '0.16', '0.17', '0.17'], 'AMD Radeon RX 580 2048SP': ['0.22', '0.21', '0.20', '0.20', '0.16'], 'AMD Radeon HD 7700 Series': ['0.16', '0.17', '', '0.15', '0.16'], 'NVIDIA GeForce 840M': ['0.18', '0.17', '', '', '0.15'], 'Intel Valleyview Baytrail': ['0.18', '0.18', '0.15', '0.15', '0.15'], 'NVIDIA GeForce 920MX': ['0.17', '0.17', '', '0.15', '0.15'], 'Other': ['10.19', '10.78', '10.64', '9.63', '10.28']}\n"
     ]
    }
   ],
   "source": [
    "print(gpu_percent_dict)"
   ]
  }
 ],
 "metadata": {
  "interpreter": {
   "hash": "ac30f5b05d4fd3be5901942acba4308286999225867c514a4d3e6a9a7b8c9b1a"
  },
  "kernelspec": {
   "display_name": "Python 3.9.1 64-bit",
   "name": "python3"
  },
  "language_info": {
   "codemirror_mode": {
    "name": "ipython",
    "version": 3
   },
   "file_extension": ".py",
   "mimetype": "text/x-python",
   "name": "python",
   "nbconvert_exporter": "python",
   "pygments_lexer": "ipython3",
   "version": "3.9.1"
  },
  "orig_nbformat": 4
 },
 "nbformat": 4,
 "nbformat_minor": 2
}
