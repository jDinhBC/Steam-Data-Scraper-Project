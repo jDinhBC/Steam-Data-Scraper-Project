{
 "cells": [
  {
   "cell_type": "code",
   "execution_count": 1,
   "metadata": {},
   "outputs": [],
   "source": [
    "# imports\n",
    "from bs4 import BeautifulSoup\n",
    "import requests, csv, pandas as pd"
   ]
  },
  {
   "cell_type": "code",
   "execution_count": 2,
   "metadata": {},
   "outputs": [],
   "source": [
    "# url, request and response\n",
    "url = 'https://store.steampowered.com/hwsurvey/videocard/'\n",
    "response = requests.get(url)"
   ]
  },
  {
   "cell_type": "code",
   "execution_count": 3,
   "metadata": {},
   "outputs": [],
   "source": [
    "soup = BeautifulSoup(response.content)\n"
   ]
  },
  {
   "cell_type": "code",
   "execution_count": 4,
   "metadata": {},
   "outputs": [],
   "source": [
    "data = soup.findAll('div', id='sub_stats')[0]"
   ]
  },
  {
   "cell_type": "code",
   "execution_count": 5,
   "metadata": {},
   "outputs": [],
   "source": [
    "#print(data)"
   ]
  },
  {
   "cell_type": "code",
   "execution_count": 6,
   "metadata": {},
   "outputs": [],
   "source": [
    "# extracting recent 5 months\n",
    "data1 = data.findAll('div', class_='col_header')[1:6]\n",
    "months = []\n",
    "for month in range(len(data1)):\n",
    "    months.append(data1[month].text)"
   ]
  },
  {
   "cell_type": "code",
   "execution_count": 7,
   "metadata": {},
   "outputs": [],
   "source": [
    "# data extraction line for gpus\n",
    "data2 = data.findAll('div', class_='substats_col_left')[8:109]"
   ]
  },
  {
   "cell_type": "code",
   "execution_count": 8,
   "metadata": {},
   "outputs": [],
   "source": [
    "# data extraction lines for Recent month column %\n",
    "data3 = data.findAll('div', class_='substats_col_month_last_pct')[8:109]"
   ]
  },
  {
   "cell_type": "code",
   "execution_count": 9,
   "metadata": {},
   "outputs": [],
   "source": [
    "# data extraction for other months\n",
    "data4 = data.findAll('div', class_='substats_col_month')[32:]"
   ]
  },
  {
   "cell_type": "code",
   "execution_count": 10,
   "metadata": {},
   "outputs": [],
   "source": [
    "# creating months-percent dict\n",
    "numerate = 0\n",
    "months_percent = {\n",
    "    months[0] : [], \n",
    "    months[1] : [],\n",
    "    months[2] : [],\n",
    "    months[3] : [],\n",
    "    months[4] : []\n",
    "}\n",
    "for percent in data4:\n",
    "\n",
    "    if ('JUN' in percent.text):\n",
    "        break\n",
    "    months_percent[months[numerate]].append(percent.text[:-1])\n",
    "    numerate += 1\n",
    "    if (numerate == 4):\n",
    "        numerate = 0\n",
    "\n",
    "for percent in data3:\n",
    "    months_percent[months[4]].append(percent.text[:-1])"
   ]
  },
  {
   "cell_type": "code",
   "execution_count": 11,
   "metadata": {},
   "outputs": [],
   "source": [
    "# Getting list of gpus\n",
    "gpu_percent_dict = {}\n",
    "num = 0\n",
    "for entry in data2:\n",
    "    temp = [\n",
    "        months_percent[months[0]][num],\n",
    "        months_percent[months[1]][num],\n",
    "        months_percent[months[2]][num],\n",
    "        months_percent[months[3]][num],\n",
    "        months_percent[months[4]][num]\n",
    "    ]\n",
    "    if ( ('NVIDIA' in entry.text) or ('AMD' in entry.text) or ('Intel' in entry.text) ):\n",
    "        gpu_percent_dict[entry.text.strip()] = temp\n",
    "    if ( ('Other' in entry.text)):\n",
    "        gpu_percent_dict['Other'] = temp\n",
    "\n",
    "    num += 1"
   ]
  },
  {
   "cell_type": "code",
   "execution_count": 12,
   "metadata": {},
   "outputs": [],
   "source": [
    "#print(gpu_percent_dict)"
   ]
  },
  {
   "cell_type": "code",
   "execution_count": 13,
   "metadata": {},
   "outputs": [],
   "source": [
    "# create dataframe\n",
    "df = pd.DataFrame.from_dict(gpu_percent_dict, orient='index', columns=[\n",
    "    months[0],\n",
    "    months[1],\n",
    "    months[2],\n",
    "    months[3],\n",
    "    months[4]])"
   ]
  },
  {
   "cell_type": "code",
   "execution_count": 14,
   "metadata": {},
   "outputs": [
    {
     "data": {
      "text/html": [
       "<div>\n",
       "<style scoped>\n",
       "    .dataframe tbody tr th:only-of-type {\n",
       "        vertical-align: middle;\n",
       "    }\n",
       "\n",
       "    .dataframe tbody tr th {\n",
       "        vertical-align: top;\n",
       "    }\n",
       "\n",
       "    .dataframe thead th {\n",
       "        text-align: right;\n",
       "    }\n",
       "</style>\n",
       "<table border=\"1\" class=\"dataframe\">\n",
       "  <thead>\n",
       "    <tr style=\"text-align: right;\">\n",
       "      <th></th>\n",
       "      <th>GPU</th>\n",
       "      <th>JUN</th>\n",
       "      <th>JUL</th>\n",
       "      <th>AUG</th>\n",
       "      <th>SEP</th>\n",
       "      <th>OCT</th>\n",
       "    </tr>\n",
       "  </thead>\n",
       "  <tbody>\n",
       "    <tr>\n",
       "      <th>0</th>\n",
       "      <td>NVIDIA GeForce GTX 1060</td>\n",
       "      <td>9.88</td>\n",
       "      <td>9.17</td>\n",
       "      <td>10.46</td>\n",
       "      <td>8.64</td>\n",
       "      <td>8.08</td>\n",
       "    </tr>\n",
       "    <tr>\n",
       "      <th>1</th>\n",
       "      <td>NVIDIA GeForce GTX 1050 Ti</td>\n",
       "      <td>6.46</td>\n",
       "      <td>6.41</td>\n",
       "      <td>6.14</td>\n",
       "      <td>6.16</td>\n",
       "      <td>5.94</td>\n",
       "    </tr>\n",
       "    <tr>\n",
       "      <th>2</th>\n",
       "      <td>NVIDIA GeForce GTX 1650</td>\n",
       "      <td>5.61</td>\n",
       "      <td>5.62</td>\n",
       "      <td>5.36</td>\n",
       "      <td>5.99</td>\n",
       "      <td>5.94</td>\n",
       "    </tr>\n",
       "    <tr>\n",
       "      <th>3</th>\n",
       "      <td>NVIDIA GeForce RTX 2060</td>\n",
       "      <td>5.99</td>\n",
       "      <td>5.52</td>\n",
       "      <td>6.87</td>\n",
       "      <td>5.57</td>\n",
       "      <td>5.16</td>\n",
       "    </tr>\n",
       "    <tr>\n",
       "      <th>4</th>\n",
       "      <td>NVIDIA GeForce GTX 1050</td>\n",
       "      <td>3.73</td>\n",
       "      <td>3.74</td>\n",
       "      <td>3.35</td>\n",
       "      <td>3.43</td>\n",
       "      <td>3.39</td>\n",
       "    </tr>\n",
       "    <tr>\n",
       "      <th>...</th>\n",
       "      <td>...</td>\n",
       "      <td>...</td>\n",
       "      <td>...</td>\n",
       "      <td>...</td>\n",
       "      <td>...</td>\n",
       "      <td>...</td>\n",
       "    </tr>\n",
       "    <tr>\n",
       "      <th>96</th>\n",
       "      <td>AMD Radeon HD 7700 Series</td>\n",
       "      <td>0.16</td>\n",
       "      <td>0.17</td>\n",
       "      <td></td>\n",
       "      <td>0.15</td>\n",
       "      <td>0.16</td>\n",
       "    </tr>\n",
       "    <tr>\n",
       "      <th>97</th>\n",
       "      <td>NVIDIA GeForce 840M</td>\n",
       "      <td>0.18</td>\n",
       "      <td>0.17</td>\n",
       "      <td></td>\n",
       "      <td></td>\n",
       "      <td>0.15</td>\n",
       "    </tr>\n",
       "    <tr>\n",
       "      <th>98</th>\n",
       "      <td>Intel Valleyview Baytrail</td>\n",
       "      <td>0.18</td>\n",
       "      <td>0.18</td>\n",
       "      <td>0.15</td>\n",
       "      <td>0.15</td>\n",
       "      <td>0.15</td>\n",
       "    </tr>\n",
       "    <tr>\n",
       "      <th>99</th>\n",
       "      <td>NVIDIA GeForce 920MX</td>\n",
       "      <td>0.17</td>\n",
       "      <td>0.17</td>\n",
       "      <td></td>\n",
       "      <td>0.15</td>\n",
       "      <td>0.15</td>\n",
       "    </tr>\n",
       "    <tr>\n",
       "      <th>100</th>\n",
       "      <td>Other</td>\n",
       "      <td>10.19</td>\n",
       "      <td>10.78</td>\n",
       "      <td>10.64</td>\n",
       "      <td>9.63</td>\n",
       "      <td>10.28</td>\n",
       "    </tr>\n",
       "  </tbody>\n",
       "</table>\n",
       "<p>101 rows × 6 columns</p>\n",
       "</div>"
      ],
      "text/plain": [
       "                            GPU    JUN    JUL    AUG   SEP    OCT\n",
       "0       NVIDIA GeForce GTX 1060   9.88   9.17  10.46  8.64   8.08\n",
       "1    NVIDIA GeForce GTX 1050 Ti   6.46   6.41   6.14  6.16   5.94\n",
       "2       NVIDIA GeForce GTX 1650   5.61   5.62   5.36  5.99   5.94\n",
       "3       NVIDIA GeForce RTX 2060   5.99   5.52   6.87  5.57   5.16\n",
       "4       NVIDIA GeForce GTX 1050   3.73   3.74   3.35  3.43   3.39\n",
       "..                          ...    ...    ...    ...   ...    ...\n",
       "96    AMD Radeon HD 7700 Series   0.16   0.17         0.15   0.16\n",
       "97          NVIDIA GeForce 840M   0.18   0.17                0.15\n",
       "98    Intel Valleyview Baytrail   0.18   0.18   0.15  0.15   0.15\n",
       "99         NVIDIA GeForce 920MX   0.17   0.17         0.15   0.15\n",
       "100                       Other  10.19  10.78  10.64  9.63  10.28\n",
       "\n",
       "[101 rows x 6 columns]"
      ]
     },
     "execution_count": 14,
     "metadata": {},
     "output_type": "execute_result"
    }
   ],
   "source": [
    "# Dataframe Reorganization\n",
    "df['GPU'] = df.index\n",
    "df = df[['GPU',months[0],months[1],months[2],months[3],months[4]]]\n",
    "df.reset_index(drop=True)"
   ]
  },
  {
   "cell_type": "code",
   "execution_count": 15,
   "metadata": {},
   "outputs": [
    {
     "data": {
      "text/plain": [
       "101"
      ]
     },
     "execution_count": 15,
     "metadata": {},
     "output_type": "execute_result"
    }
   ],
   "source": [
    "# test df methods\n",
    "len(df)"
   ]
  },
  {
   "cell_type": "code",
   "execution_count": 16,
   "metadata": {},
   "outputs": [],
   "source": [
    "# writing to csv\n",
    "df.to_csv(path_or_buf='steam_gpu_survey')"
   ]
  }
 ],
 "metadata": {
  "interpreter": {
   "hash": "ac30f5b05d4fd3be5901942acba4308286999225867c514a4d3e6a9a7b8c9b1a"
  },
  "kernelspec": {
   "display_name": "Python 3.9.1 64-bit",
   "name": "python3"
  },
  "language_info": {
   "codemirror_mode": {
    "name": "ipython",
    "version": 3
   },
   "file_extension": ".py",
   "mimetype": "text/x-python",
   "name": "python",
   "nbconvert_exporter": "python",
   "pygments_lexer": "ipython3",
   "version": "3.9.1"
  },
  "orig_nbformat": 4
 },
 "nbformat": 4,
 "nbformat_minor": 2
}
