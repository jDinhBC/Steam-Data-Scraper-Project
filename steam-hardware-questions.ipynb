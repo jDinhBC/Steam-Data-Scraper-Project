{
 "cells": [
  {
   "cell_type": "code",
   "execution_count": 8,
   "metadata": {},
   "outputs": [],
   "source": [
    "# imports\n",
    "import pandas as pd\n",
    "import numpy, csv"
   ]
  },
  {
   "cell_type": "code",
   "execution_count": 10,
   "metadata": {},
   "outputs": [],
   "source": [
    "# reading csv\n",
    "df = pd.read_csv('steam_gpu_survey')"
   ]
  },
  {
   "cell_type": "code",
   "execution_count": 13,
   "metadata": {},
   "outputs": [
    {
     "data": {
      "text/html": [
       "<div>\n",
       "<style scoped>\n",
       "    .dataframe tbody tr th:only-of-type {\n",
       "        vertical-align: middle;\n",
       "    }\n",
       "\n",
       "    .dataframe tbody tr th {\n",
       "        vertical-align: top;\n",
       "    }\n",
       "\n",
       "    .dataframe thead th {\n",
       "        text-align: right;\n",
       "    }\n",
       "</style>\n",
       "<table border=\"1\" class=\"dataframe\">\n",
       "  <thead>\n",
       "    <tr style=\"text-align: right;\">\n",
       "      <th></th>\n",
       "      <th>GPU</th>\n",
       "      <th>JUN</th>\n",
       "      <th>JUL</th>\n",
       "      <th>AUG</th>\n",
       "      <th>SEP</th>\n",
       "      <th>OCT</th>\n",
       "    </tr>\n",
       "  </thead>\n",
       "  <tbody>\n",
       "    <tr>\n",
       "      <th>1</th>\n",
       "      <td>NVIDIA GeForce GTX 1060</td>\n",
       "      <td>9.88</td>\n",
       "      <td>9.17</td>\n",
       "      <td>10.46</td>\n",
       "      <td>8.64</td>\n",
       "      <td>8.08</td>\n",
       "    </tr>\n",
       "    <tr>\n",
       "      <th>2</th>\n",
       "      <td>NVIDIA GeForce GTX 1050 Ti</td>\n",
       "      <td>6.46</td>\n",
       "      <td>6.41</td>\n",
       "      <td>6.14</td>\n",
       "      <td>6.16</td>\n",
       "      <td>5.94</td>\n",
       "    </tr>\n",
       "    <tr>\n",
       "      <th>3</th>\n",
       "      <td>NVIDIA GeForce GTX 1650</td>\n",
       "      <td>5.61</td>\n",
       "      <td>5.62</td>\n",
       "      <td>5.36</td>\n",
       "      <td>5.99</td>\n",
       "      <td>5.94</td>\n",
       "    </tr>\n",
       "    <tr>\n",
       "      <th>4</th>\n",
       "      <td>NVIDIA GeForce RTX 2060</td>\n",
       "      <td>5.99</td>\n",
       "      <td>5.52</td>\n",
       "      <td>6.87</td>\n",
       "      <td>5.57</td>\n",
       "      <td>5.16</td>\n",
       "    </tr>\n",
       "    <tr>\n",
       "      <th>5</th>\n",
       "      <td>NVIDIA GeForce GTX 1050</td>\n",
       "      <td>3.73</td>\n",
       "      <td>3.74</td>\n",
       "      <td>3.35</td>\n",
       "      <td>3.43</td>\n",
       "      <td>3.39</td>\n",
       "    </tr>\n",
       "  </tbody>\n",
       "</table>\n",
       "</div>"
      ],
      "text/plain": [
       "                          GPU   JUN   JUL    AUG   SEP   OCT\n",
       "1     NVIDIA GeForce GTX 1060  9.88  9.17  10.46  8.64  8.08\n",
       "2  NVIDIA GeForce GTX 1050 Ti  6.46  6.41   6.14  6.16  5.94\n",
       "3     NVIDIA GeForce GTX 1650  5.61  5.62   5.36  5.99  5.94\n",
       "4     NVIDIA GeForce RTX 2060  5.99  5.52   6.87  5.57  5.16\n",
       "5     NVIDIA GeForce GTX 1050  3.73  3.74   3.35  3.43  3.39"
      ]
     },
     "execution_count": 13,
     "metadata": {},
     "output_type": "execute_result"
    }
   ],
   "source": [
    "# modified index + show\n",
    "df.index = df.index + 1\n",
    "df.head()"
   ]
  }
 ],
 "metadata": {
  "interpreter": {
   "hash": "ac30f5b05d4fd3be5901942acba4308286999225867c514a4d3e6a9a7b8c9b1a"
  },
  "kernelspec": {
   "display_name": "Python 3.9.1 64-bit",
   "name": "python3"
  },
  "language_info": {
   "codemirror_mode": {
    "name": "ipython",
    "version": 3
   },
   "file_extension": ".py",
   "mimetype": "text/x-python",
   "name": "python",
   "nbconvert_exporter": "python",
   "pygments_lexer": "ipython3",
   "version": "3.9.1"
  },
  "orig_nbformat": 4
 },
 "nbformat": 4,
 "nbformat_minor": 2
}
